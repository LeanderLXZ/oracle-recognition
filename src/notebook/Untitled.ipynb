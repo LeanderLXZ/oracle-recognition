{
 "cells": [
  {
   "cell_type": "code",
   "execution_count": 1,
   "metadata": {},
   "outputs": [
    {
     "name": "stderr",
     "output_type": "stream",
     "text": [
      "Using TensorFlow backend.\n"
     ]
    },
    {
     "name": "stdout",
     "output_type": "stream",
     "text": [
      "WARNING:tensorflow:From /Users/luxuzheng/anaconda/lib/python3.6/site-packages/tensorflow/contrib/learn/python/learn/datasets/base.py:198: retry (from tensorflow.contrib.learn.python.learn.datasets.base) is deprecated and will be removed in a future version.\n",
      "Instructions for updating:\n",
      "Use the retry module or similar alternatives.\n"
     ]
    }
   ],
   "source": [
    "import pickle\n",
    "import numpy as np\n",
    "import matplotlib.pyplot as plt\n",
    "from keras.preprocessing import image\n",
    "from PIL import Image\n",
    "%matplotlib inline"
   ]
  },
  {
   "cell_type": "code",
   "execution_count": 2,
   "metadata": {
    "collapsed": true
   },
   "outputs": [],
   "source": [
    "def load_data_from_pkl(data_path):\n",
    "  \"\"\"\n",
    "  Load data from pickle file.\n",
    "  \"\"\"\n",
    "  with open(data_path, 'rb') as f:\n",
    "    print('Loading {}...'.format(f.name))\n",
    "    return pickle.load(f)"
   ]
  },
  {
   "cell_type": "code",
   "execution_count": null,
   "metadata": {},
   "outputs": [],
   "source": [
    "d_2 = load_data_from_pkl('../../data/radicals/formatted/0.p')"
   ]
  },
  {
   "cell_type": "code",
   "execution_count": null,
   "metadata": {},
   "outputs": [],
   "source": [
    "d_0.shape"
   ]
  },
  {
   "cell_type": "code",
   "execution_count": null,
   "metadata": {
    "scrolled": false
   },
   "outputs": [],
   "source": [
    "for d in d_0[1500:1510]:\n",
    "    plt.imshow(image.array_to_img(d).convert('RGB'))\n",
    "    plt.show()"
   ]
  },
  {
   "cell_type": "code",
   "execution_count": null,
   "metadata": {},
   "outputs": [],
   "source": [
    "d_0[0]"
   ]
  },
  {
   "cell_type": "code",
   "execution_count": 5,
   "metadata": {},
   "outputs": [
    {
     "name": "stdout",
     "output_type": "stream",
     "text": [
      "Loading ../../data/preprocessed_data/radical/x_train.p...\n",
      "Loading ../../data/preprocessed_data/radical/y_train.p...\n",
      "Loading ../../data/preprocessed_data/radical/x_valid.p...\n",
      "Loading ../../data/preprocessed_data/radical/y_valid.p...\n",
      "Loading ../../data/preprocessed_data/radical/x_test.p...\n",
      "Loading ../../data/preprocessed_data/radical/y_test.p...\n"
     ]
    }
   ],
   "source": [
    "x_train = load_data_from_pkl('../../data/preprocessed_data/radical/x_train.p')\n",
    "y_train = load_data_from_pkl('../../data/preprocessed_data/radical/y_train.p')\n",
    "x_valid = load_data_from_pkl('../../data/preprocessed_data/radical/x_valid.p')\n",
    "y_valid = load_data_from_pkl('../../data/preprocessed_data/radical/y_valid.p')\n",
    "x_test = load_data_from_pkl('../../data/preprocessed_data/radical/x_test.p')\n",
    "y_test = load_data_from_pkl('../../data/preprocessed_data/radical/y_test.p')"
   ]
  },
  {
   "cell_type": "code",
   "execution_count": null,
   "metadata": {
    "scrolled": false
   },
   "outputs": [],
   "source": [
    "for i in range(30):\n",
    "    plt.imshow(image.array_to_img(x_train[i]).convert('RGB'))\n",
    "    print(y_train[i])\n",
    "    plt.show()"
   ]
  },
  {
   "cell_type": "code",
   "execution_count": null,
   "metadata": {
    "collapsed": true
   },
   "outputs": [],
   "source": []
  }
 ],
 "metadata": {
  "kernelspec": {
   "display_name": "Python 3",
   "language": "python",
   "name": "python3"
  },
  "language_info": {
   "codemirror_mode": {
    "name": "ipython",
    "version": 3
   },
   "file_extension": ".py",
   "mimetype": "text/x-python",
   "name": "python",
   "nbconvert_exporter": "python",
   "pygments_lexer": "ipython3",
   "version": "3.6.2"
  }
 },
 "nbformat": 4,
 "nbformat_minor": 2
}
